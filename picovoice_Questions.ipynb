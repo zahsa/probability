{
  "nbformat": 4,
  "nbformat_minor": 0,
  "metadata": {
    "colab": {
      "provenance": []
    },
    "kernelspec": {
      "name": "python3",
      "display_name": "Python 3"
    },
    "language_info": {
      "name": "python"
    }
  },
  "cells": [
    {
      "cell_type": "markdown",
      "source": [
        "Q1. The probability of rain on a given calendar day in Vancouver is p[i], where i is the day's index. For\n",
        "example, p[0] is the probability of rain on January 1 st , and p[10] is the probability of precipitation on January 11 th . Assume\n",
        "the year has 365 days (i.e., p has 365 elements). What is the chance it rains more than n (e.g., 100) days in Vancouver?\n",
        "Write a function that accepts p (probabilities of rain on a given calendar day) and n as input arguments and returns the\n",
        "possibility of raining at least n days."
      ],
      "metadata": {
        "id": "Tc1V--Tx99Do"
      }
    },
    {
      "cell_type": "code",
      "execution_count": 43,
      "metadata": {
        "id": "QPddj3n897e3"
      },
      "outputs": [],
      "source": [
        "# assumption_1: the prob of rain of all days are equal and independent\n",
        "# Applying Binomial distribution : https://en.wikipedia.org/wiki/Binomial_distribution\n",
        "from scipy.stats import binom\n",
        "def prob_rain_more_than_n(p, n):\n",
        "    p1 = p[0]\n",
        "    N = len(p)\n",
        "    # calculate 1 - p(X > n)\n",
        "    return 1 - binom.cdf(n, N, p1)\n"
      ]
    },
    {
      "cell_type": "code",
      "source": [
        "# Example with N = 5 and n = 2\n",
        "probabilities = [0.1, 0.1, 0.1, 0.1, 0.1]\n",
        "\n",
        "n = 2\n",
        "prob_more_than_n = prob_rain_more_than_n(probabilities, n)\n",
        "print(f\"Probability of raining more than {n} days with equal probabilities: {prob_more_than_n}\")"
      ],
      "metadata": {
        "colab": {
          "base_uri": "https://localhost:8080/"
        },
        "id": "MzLdIJ31ALPO",
        "outputId": "54bc4eb1-0707-4d41-b2a3-91c69ce2923c"
      },
      "execution_count": 44,
      "outputs": [
        {
          "output_type": "stream",
          "name": "stdout",
          "text": [
            "Probability of raining more than 2 days with equal probabilities: 0.008560000000000012\n"
          ]
        }
      ]
    },
    {
      "cell_type": "code",
      "source": [
        "!wget https://raw.githubusercontent.com/tsakim/poibin/master/poibin.py\n"
      ],
      "metadata": {
        "colab": {
          "base_uri": "https://localhost:8080/"
        },
        "id": "BbpBiQb8ZLdE",
        "outputId": "94867f6f-cb7c-46ae-894b-bc1ea6ee50d7"
      },
      "execution_count": 9,
      "outputs": [
        {
          "output_type": "stream",
          "name": "stdout",
          "text": [
            "--2025-02-21 12:04:10--  https://raw.githubusercontent.com/tsakim/poibin/master/poibin.py\n",
            "Resolving raw.githubusercontent.com (raw.githubusercontent.com)... 185.199.111.133, 185.199.108.133, 185.199.110.133, ...\n",
            "Connecting to raw.githubusercontent.com (raw.githubusercontent.com)|185.199.111.133|:443... connected.\n",
            "HTTP request sent, awaiting response... 200 OK\n",
            "Length: 10547 (10K) [text/plain]\n",
            "Saving to: ‘poibin.py’\n",
            "\n",
            "\rpoibin.py             0%[                    ]       0  --.-KB/s               \rpoibin.py           100%[===================>]  10.30K  --.-KB/s    in 0s      \n",
            "\n",
            "2025-02-21 12:04:10 (84.2 MB/s) - ‘poibin.py’ saved [10547/10547]\n",
            "\n"
          ]
        }
      ]
    },
    {
      "cell_type": "code",
      "source": [
        "# assumption_2: the prob of rain of all days are equal and independent\n",
        "# Applying Poisson binomial distribution: https://en.wikipedia.org/wiki/Poisson_binomial_distribution\n",
        "from poibin import PoiBin\n",
        "\n",
        "def prob_rain_more_than_n_unequal(p, n):\n",
        "    pb = PoiBin(p)\n",
        "    return 1 - pb.cdf(n)\n"
      ],
      "metadata": {
        "id": "xnlze1cK-vlV"
      },
      "execution_count": 18,
      "outputs": []
    },
    {
      "cell_type": "code",
      "source": [
        "# Test with N = 5 and n = 2\n",
        "probabilities = [0.1, 0.2, 0.05, 0.15, 0.2]\n",
        "n = 2\n",
        "prob_more_than_n = prob_rain_more_than_n_unequal(probabilities, n)\n",
        "print(f\"Probability of raining more than {n} days with unequal probabilities: {prob_more_than_n}\")"
      ],
      "metadata": {
        "colab": {
          "base_uri": "https://localhost:8080/"
        },
        "id": "XPC0FdTv-l8R",
        "outputId": "659269ac-81f6-4fb1-d4ee-df67090e1a38"
      },
      "execution_count": 22,
      "outputs": [
        {
          "output_type": "stream",
          "name": "stdout",
          "text": [
            "Probability of raining more than 2 days with unequal probabilities: 0.019729999999999137\n"
          ]
        }
      ]
    },
    {
      "cell_type": "code",
      "source": [
        "# solution 2 : implementing Poisson binomial distribution\n",
        "import itertools\n",
        "from itertools import permutations,combinations"
      ],
      "metadata": {
        "id": "EJx0VTWXZTiM"
      },
      "execution_count": 29,
      "outputs": []
    },
    {
      "cell_type": "code",
      "source": [
        "def find_pos_neg_cases(n,k):\n",
        "    all_elements = list(range(1,n+1))\n",
        "    subsets = []\n",
        "    for r in range(k + 1):\n",
        "        subsets.extend(combinations(all_elements, r))\n",
        "\n",
        "    cases_pos = list(map(list, subsets))\n",
        "    # print(cases_pos)\n",
        "    cases_neg = []\n",
        "\n",
        "    for c_pos in cases_pos:\n",
        "        c_neg = []\n",
        "        for i in all_elements:\n",
        "            if i not in c_pos:\n",
        "                c_neg.append(i)\n",
        "        cases_neg.append(list(c_neg))\n",
        "    # print(cases_neg)\n",
        "    return(cases_pos,cases_neg)"
      ],
      "metadata": {
        "id": "sDYcAaSTbmnh"
      },
      "execution_count": 23,
      "outputs": []
    },
    {
      "cell_type": "code",
      "source": [
        "def prob_rain_more_than_n(p:float, n: int) -> float:\n",
        "    # Assuming that the prob of rain of all days are independent but not equal\n",
        "    N = len(p)\n",
        "    k = n\n",
        "    [pos_cases,neg_cases] = find_pos_neg_cases(N,k)\n",
        "\n",
        "    total_prob = 0\n",
        "    for pc,nc in zip(pos_cases,neg_cases):\n",
        "        prob = 1\n",
        "\n",
        "        if len(pc) > 0:\n",
        "          for s in pc:\n",
        "                     prob *= p[s-1]\n",
        "        if len(nc) > 0:\n",
        "          for s in nc:\n",
        "                     prob *= 1 - p[s-1]\n",
        "        total_prob += prob\n",
        "    print(total_prob)"
      ],
      "metadata": {
        "id": "EENbwozcbwO5"
      },
      "execution_count": 24,
      "outputs": []
    },
    {
      "cell_type": "code",
      "source": [
        "# Test with N = 5 and n = 2\n",
        "probabilities = [0.1, 0.2, 0.05, 0.15, 0.2]\n",
        "n = 2\n",
        "prob_more_than_n = prob_rain_more_than_n_unequal(probabilities, n)\n",
        "print(f\"Probability of raining more than {n} days with unequal probabilities: {prob_more_than_n}\")"
      ],
      "metadata": {
        "colab": {
          "base_uri": "https://localhost:8080/"
        },
        "id": "Cv--B6y3b-Hp",
        "outputId": "3a21a3dd-5210-4996-c989-c7f1a7346d7a"
      },
      "execution_count": 25,
      "outputs": [
        {
          "output_type": "stream",
          "name": "stdout",
          "text": [
            "Probability of raining more than 2 days with unequal probabilities: 0.019729999999999137\n"
          ]
        }
      ]
    },
    {
      "cell_type": "markdown",
      "source": [
        "Q2: A phoneme is a sound unit (similar to a character for text). We have an extensive pronunciation\n",
        "dictionary (think millions of words). Below is a snippet: \\\\\n",
        "ABACUS​: AE B AH K AH S​ \\\\\n",
        "BOOK: B UH K​ \\\\\n",
        "THEIR: DH EH R​ \\\\\n",
        "THERE: DH EH R​ \\\\\n",
        "TOMATO: T AH M AA T OW​ \\\\\n",
        "TOMATO: T AH M EY T OW \\\\\n",
        "Given a sequence of phonemes as input (e.g. [\"DH\", \"EH\", \"R\", \"DH\", \"EH\", \"R\"]), find all the combinations of the words that\n",
        "can produce this sequence (e.g. [[\"THEIR\", \"THEIR\"], [\"THEIR\", \"THERE\"], [\"THERE\", \"THEIR\"], [\"THERE\", \"THERE\"]]). You can\n",
        "preprocess the dictionary into a different data structure if needed."
      ],
      "metadata": {
        "id": "2VYYZ3jGcMJr"
      }
    },
    {
      "cell_type": "code",
      "source": [
        "# An example for snippets according to the question\n",
        "snippets = {\n",
        "    \"ABACUS\": [\"AE\", \"B\", \"AH\", \"K\", \"AH\", \"S\"],\n",
        "    \"BOOK\": [\"B\", \"UH\", \"K\"],\n",
        "    \"THEIR\": [\"DH\", \"EH\", \"R\"],\n",
        "    \"THERE\": [\"DH\", \"EH\", \"R\"],\n",
        "    \"TOMATO1\": [\"T\", \"AH\", \"M\", \"AA\", \"T\", \"OW\"],\n",
        "    \"TOMATO2\": [\"T\", \"AH\", \"M\", \"EY\", \"T\", \"OW\"],\n",
        "}"
      ],
      "metadata": {
        "id": "6OjOE8Czds8b"
      },
      "execution_count": 30,
      "outputs": []
    },
    {
      "cell_type": "code",
      "source": [
        "def find_word_combos_with_pronunciation(phonemes):\n",
        "    perms = []\n",
        "    words = []\n",
        "    for i in range(1, len(phonemes)+1):\n",
        "        for p in permutations(phonemes, i):\n",
        "            p = \"\".join(p)\n",
        "            perms.append(p)\n",
        "            for key,val in snippets.items():\n",
        "                w = \"\".join(val)\n",
        "                if w == p:\n",
        "                    words.append(key)\n",
        "                    # vals.append(w)\n",
        "    words = set(words)\n",
        "    all_words = []\n",
        "\n",
        "    for i in range(1, len(words)+1):\n",
        "        for p in permutations(words, i):\n",
        "            # this statement is added to follow the example output format\n",
        "            if i == 1:\n",
        "                all_words.append(list(p)*2)\n",
        "            else:\n",
        "                all_words.append(list(p))\n",
        "\n",
        "    return all_words"
      ],
      "metadata": {
        "id": "F4DZDEjacBGi"
      },
      "execution_count": 31,
      "outputs": []
    },
    {
      "cell_type": "code",
      "source": [
        "# Test\n",
        "input = [\"DH\", \"EH\", \"R\", \"DH\", \"EH\", \"R\"]\n",
        "w = find_word_combos_with_pronunciation(input)\n",
        "print(w)"
      ],
      "metadata": {
        "colab": {
          "base_uri": "https://localhost:8080/"
        },
        "id": "35U7lBwTcc4l",
        "outputId": "1265208f-db30-40a1-c56c-cd4bf6d1d66d"
      },
      "execution_count": 39,
      "outputs": [
        {
          "output_type": "stream",
          "name": "stdout",
          "text": [
            "[['THEIR', 'THEIR'], ['THERE', 'THERE'], ['THEIR', 'THERE'], ['THERE', 'THEIR']]\n"
          ]
        }
      ]
    },
    {
      "cell_type": "markdown",
      "source": [
        "Q3: Find the n most frequent words in the TensorFlow Shakespeare dataset (https://storage.googleapis.com/download.tensorflow.org/data/shakespeare.txt)."
      ],
      "metadata": {
        "id": "zyDW8Ioxfo3W"
      }
    },
    {
      "cell_type": "code",
      "source": [
        "import requests\n",
        "import string\n",
        "from collections import Counter\n"
      ],
      "metadata": {
        "id": "XYesXQURcfMX"
      },
      "execution_count": 34,
      "outputs": []
    },
    {
      "cell_type": "code",
      "source": [
        "def find_frequent_words(path, n):\n",
        "    # Read dataset from the provided url\n",
        "    response = requests.get(path)\n",
        "    text = response.text\n",
        "\n",
        "    # Turn into lower case\n",
        "    text = text.lower()\n",
        "\n",
        "    # Remove punctuations\n",
        "    text = text.translate(str.maketrans('', '', string.punctuation))\n",
        "\n",
        "    # Split into words\n",
        "    words = text.split()\n",
        "\n",
        "    # Count the number of each unique word\n",
        "    word_counts = Counter(words)\n",
        "\n",
        "    most_common_words_counts = word_counts.most_common(n)\n",
        "\n",
        "    most_common_words = [most_common_words_counts[i][0] for i in range(len(most_common_words_counts))]\n",
        "\n",
        "    return(most_common_words)\n",
        "\n",
        "\n"
      ],
      "metadata": {
        "id": "x56tHC4BgBzH"
      },
      "execution_count": 36,
      "outputs": []
    },
    {
      "cell_type": "code",
      "source": [
        "# Test with n = 5\n",
        "url = 'https://storage.googleapis.com/download.tensorflow.org/data/shakespeare.txt'\n",
        "find_frequent_words(url,5)"
      ],
      "metadata": {
        "colab": {
          "base_uri": "https://localhost:8080/"
        },
        "id": "LmP-Km9AhN6Y",
        "outputId": "2b9fa54f-1118-41d0-cc95-d328a91b62ab"
      },
      "execution_count": 40,
      "outputs": [
        {
          "output_type": "execute_result",
          "data": {
            "text/plain": [
              "['the', 'and', 'to', 'i', 'of']"
            ]
          },
          "metadata": {},
          "execution_count": 40
        }
      ]
    },
    {
      "cell_type": "code",
      "source": [],
      "metadata": {
        "id": "t6mQdoubhTRq"
      },
      "execution_count": null,
      "outputs": []
    }
  ]
}